{
 "cells": [
  {
   "cell_type": "markdown",
   "id": "49f230ee-f672-4dc2-972d-0d40cf5e2550",
   "metadata": {},
   "source": [
    "# Client & Subscription Insights Analysis"
   ]
  },
  {
   "cell_type": "markdown",
   "id": "28244319-2969-42b0-8ee9-bf6292d5bd84",
   "metadata": {},
   "source": [
    "This project is part of the SkyGeni Data Engineer assignment, where I analyzed client, subscription, payment, and financial datasets to uncover key business insights. The goal was to answer questions related to industry renewal rates, client segmentation, inflation impact on renewals, and yearly payment trends."
   ]
  },
  {
   "cell_type": "markdown",
   "id": "f5462029-f02b-4239-bd1e-bfdb2f597e95",
   "metadata": {},
   "source": [
    "Github link to code and files: https://github.com/ChelsaMJ/Client-Subscription-Insights-Analysis"
   ]
  },
  {
   "cell_type": "markdown",
   "id": "e333a014-25d9-49f3-aaa2-018cfaec0315",
   "metadata": {},
   "source": [
    "## Import Libraries & Load Data"
   ]
  },
  {
   "cell_type": "code",
   "execution_count": 5,
   "id": "08cb11e3-9de8-4b2b-ac47-9b2f8ff33e7f",
   "metadata": {},
   "outputs": [],
   "source": [
    "# Importing libraries\n",
    "import pandas as pd\n",
    "import numpy as np\n",
    "import matplotlib.pyplot as plt\n",
    "import seaborn as sns"
   ]
  },
  {
   "cell_type": "code",
   "execution_count": 6,
   "id": "bb79e356-8179-4f7b-9f24-abe5ef3f30fb",
   "metadata": {},
   "outputs": [],
   "source": [
    "# Load all CSVs\n",
    "industry_df = pd.read_csv(\"industry_client_details.csv\")\n",
    "subscription_df = pd.read_csv(\"subscription_information.csv\")\n",
    "payment_df = pd.read_csv(\"payment_information.csv\")\n",
    "financial_df = pd.read_csv(\"finanical_information.csv\")"
   ]
  },
  {
   "cell_type": "code",
   "execution_count": 7,
   "id": "9203f155-751f-4411-ada5-0501d11cf335",
   "metadata": {},
   "outputs": [
    {
     "name": "stdout",
     "output_type": "stream",
     "text": [
      "Industry Data:\n"
     ]
    },
    {
     "data": {
      "text/html": [
       "<div>\n",
       "<style scoped>\n",
       "    .dataframe tbody tr th:only-of-type {\n",
       "        vertical-align: middle;\n",
       "    }\n",
       "\n",
       "    .dataframe tbody tr th {\n",
       "        vertical-align: top;\n",
       "    }\n",
       "\n",
       "    .dataframe thead th {\n",
       "        text-align: right;\n",
       "    }\n",
       "</style>\n",
       "<table border=\"1\" class=\"dataframe\">\n",
       "  <thead>\n",
       "    <tr style=\"text-align: right;\">\n",
       "      <th></th>\n",
       "      <th>client_id</th>\n",
       "      <th>company_size</th>\n",
       "      <th>industry</th>\n",
       "      <th>location</th>\n",
       "    </tr>\n",
       "  </thead>\n",
       "  <tbody>\n",
       "    <tr>\n",
       "      <th>0</th>\n",
       "      <td>4280387012</td>\n",
       "      <td>Large</td>\n",
       "      <td>Finance Lending</td>\n",
       "      <td>Mumbai</td>\n",
       "    </tr>\n",
       "    <tr>\n",
       "      <th>1</th>\n",
       "      <td>2095513148</td>\n",
       "      <td>Small</td>\n",
       "      <td>Finance Lending</td>\n",
       "      <td>Chennai</td>\n",
       "    </tr>\n",
       "    <tr>\n",
       "      <th>2</th>\n",
       "      <td>7225516707</td>\n",
       "      <td>Medium</td>\n",
       "      <td>Finance Lending</td>\n",
       "      <td>New Delhi</td>\n",
       "    </tr>\n",
       "    <tr>\n",
       "      <th>3</th>\n",
       "      <td>8093537819</td>\n",
       "      <td>Large</td>\n",
       "      <td>Block Chain</td>\n",
       "      <td>Mumbai</td>\n",
       "    </tr>\n",
       "    <tr>\n",
       "      <th>4</th>\n",
       "      <td>4387541014</td>\n",
       "      <td>Medium</td>\n",
       "      <td>Hyper Local</td>\n",
       "      <td>Banglore</td>\n",
       "    </tr>\n",
       "  </tbody>\n",
       "</table>\n",
       "</div>"
      ],
      "text/plain": [
       "    client_id company_size         industry   location\n",
       "0  4280387012        Large  Finance Lending     Mumbai\n",
       "1  2095513148        Small  Finance Lending    Chennai\n",
       "2  7225516707       Medium  Finance Lending  New Delhi\n",
       "3  8093537819        Large      Block Chain     Mumbai\n",
       "4  4387541014       Medium      Hyper Local   Banglore"
      ]
     },
     "metadata": {},
     "output_type": "display_data"
    },
    {
     "name": "stdout",
     "output_type": "stream",
     "text": [
      "Subscription Data:\n"
     ]
    },
    {
     "data": {
      "text/html": [
       "<div>\n",
       "<style scoped>\n",
       "    .dataframe tbody tr th:only-of-type {\n",
       "        vertical-align: middle;\n",
       "    }\n",
       "\n",
       "    .dataframe tbody tr th {\n",
       "        vertical-align: top;\n",
       "    }\n",
       "\n",
       "    .dataframe thead th {\n",
       "        text-align: right;\n",
       "    }\n",
       "</style>\n",
       "<table border=\"1\" class=\"dataframe\">\n",
       "  <thead>\n",
       "    <tr style=\"text-align: right;\">\n",
       "      <th></th>\n",
       "      <th>client_id</th>\n",
       "      <th>subscription_type</th>\n",
       "      <th>start_date</th>\n",
       "      <th>end_date</th>\n",
       "      <th>renewed</th>\n",
       "    </tr>\n",
       "  </thead>\n",
       "  <tbody>\n",
       "    <tr>\n",
       "      <th>0</th>\n",
       "      <td>1131383004</td>\n",
       "      <td>Yearly</td>\n",
       "      <td>2020-11-11</td>\n",
       "      <td>2021-11-11</td>\n",
       "      <td>False</td>\n",
       "    </tr>\n",
       "    <tr>\n",
       "      <th>1</th>\n",
       "      <td>4309371709</td>\n",
       "      <td>Monthly</td>\n",
       "      <td>2021-05-24</td>\n",
       "      <td>2021-06-23</td>\n",
       "      <td>True</td>\n",
       "    </tr>\n",
       "    <tr>\n",
       "      <th>2</th>\n",
       "      <td>3183675157</td>\n",
       "      <td>Yearly</td>\n",
       "      <td>2021-12-25</td>\n",
       "      <td>2022-12-25</td>\n",
       "      <td>True</td>\n",
       "    </tr>\n",
       "    <tr>\n",
       "      <th>3</th>\n",
       "      <td>5371694837</td>\n",
       "      <td>Monthly</td>\n",
       "      <td>2020-03-14</td>\n",
       "      <td>2020-04-13</td>\n",
       "      <td>True</td>\n",
       "    </tr>\n",
       "    <tr>\n",
       "      <th>4</th>\n",
       "      <td>5157113076</td>\n",
       "      <td>Monthly</td>\n",
       "      <td>2019-11-07</td>\n",
       "      <td>2019-12-07</td>\n",
       "      <td>False</td>\n",
       "    </tr>\n",
       "  </tbody>\n",
       "</table>\n",
       "</div>"
      ],
      "text/plain": [
       "    client_id subscription_type  start_date    end_date  renewed\n",
       "0  1131383004            Yearly  2020-11-11  2021-11-11    False\n",
       "1  4309371709           Monthly  2021-05-24  2021-06-23     True\n",
       "2  3183675157            Yearly  2021-12-25  2022-12-25     True\n",
       "3  5371694837           Monthly  2020-03-14  2020-04-13     True\n",
       "4  5157113076           Monthly  2019-11-07  2019-12-07    False"
      ]
     },
     "metadata": {},
     "output_type": "display_data"
    },
    {
     "name": "stdout",
     "output_type": "stream",
     "text": [
      "Payment Data:\n"
     ]
    },
    {
     "data": {
      "text/html": [
       "<div>\n",
       "<style scoped>\n",
       "    .dataframe tbody tr th:only-of-type {\n",
       "        vertical-align: middle;\n",
       "    }\n",
       "\n",
       "    .dataframe tbody tr th {\n",
       "        vertical-align: top;\n",
       "    }\n",
       "\n",
       "    .dataframe thead th {\n",
       "        text-align: right;\n",
       "    }\n",
       "</style>\n",
       "<table border=\"1\" class=\"dataframe\">\n",
       "  <thead>\n",
       "    <tr style=\"text-align: right;\">\n",
       "      <th></th>\n",
       "      <th>client_id</th>\n",
       "      <th>payment_date</th>\n",
       "      <th>amount_paid</th>\n",
       "      <th>payment_method</th>\n",
       "    </tr>\n",
       "  </thead>\n",
       "  <tbody>\n",
       "    <tr>\n",
       "      <th>0</th>\n",
       "      <td>6292156167</td>\n",
       "      <td>9/16/2019</td>\n",
       "      <td>447.0</td>\n",
       "      <td>Bank Transfer</td>\n",
       "    </tr>\n",
       "    <tr>\n",
       "      <th>1</th>\n",
       "      <td>7462725203</td>\n",
       "      <td>5/21/2018</td>\n",
       "      <td>379.7</td>\n",
       "      <td>Bank Transfer</td>\n",
       "    </tr>\n",
       "    <tr>\n",
       "      <th>2</th>\n",
       "      <td>4698004907</td>\n",
       "      <td>9/11/2021</td>\n",
       "      <td>435.1</td>\n",
       "      <td>Check</td>\n",
       "    </tr>\n",
       "    <tr>\n",
       "      <th>3</th>\n",
       "      <td>3510240337</td>\n",
       "      <td>12/7/2020</td>\n",
       "      <td>413.1</td>\n",
       "      <td>Check</td>\n",
       "    </tr>\n",
       "    <tr>\n",
       "      <th>4</th>\n",
       "      <td>7501599785</td>\n",
       "      <td>3/4/2019</td>\n",
       "      <td>61.1</td>\n",
       "      <td>Bank Transfer</td>\n",
       "    </tr>\n",
       "  </tbody>\n",
       "</table>\n",
       "</div>"
      ],
      "text/plain": [
       "    client_id payment_date  amount_paid payment_method\n",
       "0  6292156167    9/16/2019        447.0  Bank Transfer\n",
       "1  7462725203    5/21/2018        379.7  Bank Transfer\n",
       "2  4698004907    9/11/2021        435.1          Check\n",
       "3  3510240337    12/7/2020        413.1          Check\n",
       "4  7501599785     3/4/2019         61.1  Bank Transfer"
      ]
     },
     "metadata": {},
     "output_type": "display_data"
    },
    {
     "name": "stdout",
     "output_type": "stream",
     "text": [
      "Financial Data:\n"
     ]
    },
    {
     "data": {
      "text/html": [
       "<div>\n",
       "<style scoped>\n",
       "    .dataframe tbody tr th:only-of-type {\n",
       "        vertical-align: middle;\n",
       "    }\n",
       "\n",
       "    .dataframe tbody tr th {\n",
       "        vertical-align: top;\n",
       "    }\n",
       "\n",
       "    .dataframe thead th {\n",
       "        text-align: right;\n",
       "    }\n",
       "</style>\n",
       "<table border=\"1\" class=\"dataframe\">\n",
       "  <thead>\n",
       "    <tr style=\"text-align: right;\">\n",
       "      <th></th>\n",
       "      <th>Unnamed: 0</th>\n",
       "      <th>start_date</th>\n",
       "      <th>end_date</th>\n",
       "      <th>inflation_rate</th>\n",
       "      <th>gdp_growth_rate</th>\n",
       "    </tr>\n",
       "  </thead>\n",
       "  <tbody>\n",
       "    <tr>\n",
       "      <th>0</th>\n",
       "      <td>0</td>\n",
       "      <td>2018-01-01</td>\n",
       "      <td>2018-03-31</td>\n",
       "      <td>5.77</td>\n",
       "      <td>3.51</td>\n",
       "    </tr>\n",
       "    <tr>\n",
       "      <th>1</th>\n",
       "      <td>1</td>\n",
       "      <td>2018-04-01</td>\n",
       "      <td>2018-06-30</td>\n",
       "      <td>1.17</td>\n",
       "      <td>2.15</td>\n",
       "    </tr>\n",
       "    <tr>\n",
       "      <th>2</th>\n",
       "      <td>2</td>\n",
       "      <td>2018-07-01</td>\n",
       "      <td>2018-09-30</td>\n",
       "      <td>1.56</td>\n",
       "      <td>1.82</td>\n",
       "    </tr>\n",
       "    <tr>\n",
       "      <th>3</th>\n",
       "      <td>3</td>\n",
       "      <td>2018-10-01</td>\n",
       "      <td>2018-12-31</td>\n",
       "      <td>2.78</td>\n",
       "      <td>2.43</td>\n",
       "    </tr>\n",
       "    <tr>\n",
       "      <th>4</th>\n",
       "      <td>4</td>\n",
       "      <td>2019-01-01</td>\n",
       "      <td>2019-03-31</td>\n",
       "      <td>6.91</td>\n",
       "      <td>3.44</td>\n",
       "    </tr>\n",
       "  </tbody>\n",
       "</table>\n",
       "</div>"
      ],
      "text/plain": [
       "   Unnamed: 0  start_date    end_date  inflation_rate  gdp_growth_rate\n",
       "0           0  2018-01-01  2018-03-31            5.77             3.51\n",
       "1           1  2018-04-01  2018-06-30            1.17             2.15\n",
       "2           2  2018-07-01  2018-09-30            1.56             1.82\n",
       "3           3  2018-10-01  2018-12-31            2.78             2.43\n",
       "4           4  2019-01-01  2019-03-31            6.91             3.44"
      ]
     },
     "metadata": {},
     "output_type": "display_data"
    }
   ],
   "source": [
    "# Preview each dataset\n",
    "print(\"Industry Data:\")\n",
    "display(industry_df.head())\n",
    "\n",
    "print(\"Subscription Data:\")\n",
    "display(subscription_df.head())\n",
    "\n",
    "print(\"Payment Data:\")\n",
    "display(payment_df.head())\n",
    "\n",
    "print(\"Financial Data:\")\n",
    "display(financial_df.head())"
   ]
  },
  {
   "cell_type": "markdown",
   "id": "b888c989-95e8-4bdb-a079-e6710eb107ed",
   "metadata": {},
   "source": [
    "## Exploratory Data Analysis (EDA)"
   ]
  },
  {
   "cell_type": "code",
   "execution_count": 9,
   "id": "7cd5bc06-e01c-473f-8b9f-2cad948c0bf7",
   "metadata": {},
   "outputs": [
    {
     "name": "stdout",
     "output_type": "stream",
     "text": [
      "Industry Data Info:\n",
      "<class 'pandas.core.frame.DataFrame'>\n",
      "RangeIndex: 100 entries, 0 to 99\n",
      "Data columns (total 4 columns):\n",
      " #   Column        Non-Null Count  Dtype \n",
      "---  ------        --------------  ----- \n",
      " 0   client_id     100 non-null    int64 \n",
      " 1   company_size  100 non-null    object\n",
      " 2   industry      100 non-null    object\n",
      " 3   location      100 non-null    object\n",
      "dtypes: int64(1), object(3)\n",
      "memory usage: 3.3+ KB\n",
      "\n",
      "Subscription Data Info:\n",
      "<class 'pandas.core.frame.DataFrame'>\n",
      "RangeIndex: 100 entries, 0 to 99\n",
      "Data columns (total 5 columns):\n",
      " #   Column             Non-Null Count  Dtype \n",
      "---  ------             --------------  ----- \n",
      " 0   client_id          100 non-null    int64 \n",
      " 1   subscription_type  100 non-null    object\n",
      " 2   start_date         100 non-null    object\n",
      " 3   end_date           100 non-null    object\n",
      " 4   renewed            100 non-null    bool  \n",
      "dtypes: bool(1), int64(1), object(3)\n",
      "memory usage: 3.4+ KB\n",
      "\n",
      "Payment Data Info:\n",
      "<class 'pandas.core.frame.DataFrame'>\n",
      "RangeIndex: 100 entries, 0 to 99\n",
      "Data columns (total 4 columns):\n",
      " #   Column          Non-Null Count  Dtype  \n",
      "---  ------          --------------  -----  \n",
      " 0   client_id       100 non-null    int64  \n",
      " 1   payment_date    100 non-null    object \n",
      " 2   amount_paid     100 non-null    float64\n",
      " 3   payment_method  100 non-null    object \n",
      "dtypes: float64(1), int64(1), object(2)\n",
      "memory usage: 3.3+ KB\n",
      "\n",
      "Financial Data Info:\n",
      "<class 'pandas.core.frame.DataFrame'>\n",
      "RangeIndex: 21 entries, 0 to 20\n",
      "Data columns (total 5 columns):\n",
      " #   Column           Non-Null Count  Dtype  \n",
      "---  ------           --------------  -----  \n",
      " 0   Unnamed: 0       21 non-null     int64  \n",
      " 1   start_date       21 non-null     object \n",
      " 2   end_date         21 non-null     object \n",
      " 3   inflation_rate   21 non-null     float64\n",
      " 4   gdp_growth_rate  21 non-null     float64\n",
      "dtypes: float64(2), int64(1), object(2)\n",
      "memory usage: 972.0+ bytes\n"
     ]
    }
   ],
   "source": [
    "# Checking data info\n",
    "print(\"Industry Data Info:\")\n",
    "industry_df.info()\n",
    "\n",
    "print(\"\\nSubscription Data Info:\")\n",
    "subscription_df.info()\n",
    "\n",
    "print(\"\\nPayment Data Info:\")\n",
    "payment_df.info()\n",
    "\n",
    "print(\"\\nFinancial Data Info:\")\n",
    "financial_df.info()"
   ]
  },
  {
   "cell_type": "code",
   "execution_count": 10,
   "id": "7871920d-bd36-4e96-930e-b9e00222a949",
   "metadata": {},
   "outputs": [
    {
     "name": "stdout",
     "output_type": "stream",
     "text": [
      "\n",
      "Missing values in each file:\n",
      "\n",
      "\n",
      "Industry:\n",
      " client_id       0\n",
      "company_size    0\n",
      "industry        0\n",
      "location        0\n",
      "dtype: int64\n",
      "\n",
      "Subscription:\n",
      " client_id            0\n",
      "subscription_type    0\n",
      "start_date           0\n",
      "end_date             0\n",
      "renewed              0\n",
      "dtype: int64\n",
      "\n",
      "Payment:\n",
      " client_id         0\n",
      "payment_date      0\n",
      "amount_paid       0\n",
      "payment_method    0\n",
      "dtype: int64\n",
      "\n",
      "Financial:\n",
      " Unnamed: 0         0\n",
      "start_date         0\n",
      "end_date           0\n",
      "inflation_rate     0\n",
      "gdp_growth_rate    0\n",
      "dtype: int64\n"
     ]
    }
   ],
   "source": [
    "# Checking for missing values\n",
    "print(\"\\nMissing values in each file:\\n\")\n",
    "print(\"\\nIndustry:\\n\", industry_df.isnull().sum())\n",
    "print(\"\\nSubscription:\\n\", subscription_df.isnull().sum())\n",
    "print(\"\\nPayment:\\n\", payment_df.isnull().sum())\n",
    "print(\"\\nFinancial:\\n\", financial_df.isnull().sum())"
   ]
  },
  {
   "cell_type": "markdown",
   "id": "7e682c9e-f7e4-4377-be15-2a1dafe21470",
   "metadata": {},
   "source": [
    "## Data Cleaning & Processing"
   ]
  },
  {
   "cell_type": "code",
   "execution_count": 12,
   "id": "fe3cf467-0bc3-4cf7-8c2c-46495862a8c6",
   "metadata": {},
   "outputs": [],
   "source": [
    "# Convert dates(initial dtype: object) to datetime format\n",
    "subscription_df['start_date'] = pd.to_datetime(subscription_df['start_date'])\n",
    "subscription_df['end_date'] = pd.to_datetime(subscription_df['end_date'])\n",
    "\n",
    "payment_df['payment_date'] = pd.to_datetime(payment_df['payment_date'])\n",
    "\n",
    "financial_df['start_date'] = pd.to_datetime(financial_df['start_date'])\n",
    "financial_df['end_date'] = pd.to_datetime(financial_df['end_date'])"
   ]
  },
  {
   "cell_type": "code",
   "execution_count": 13,
   "id": "54647e81-7556-446c-8c4b-84533e98a010",
   "metadata": {},
   "outputs": [
    {
     "name": "stdout",
     "output_type": "stream",
     "text": [
      "Subscription Dates Converted:\n",
      "start_date    datetime64[ns]\n",
      "end_date      datetime64[ns]\n",
      "dtype: object\n"
     ]
    }
   ],
   "source": [
    "# Check again after conversion\n",
    "print(\"Subscription Dates Converted:\")\n",
    "print(subscription_df[['start_date', 'end_date']].dtypes)"
   ]
  },
  {
   "cell_type": "markdown",
   "id": "16e91f3b-0e0f-4012-94f9-cacdce14871e",
   "metadata": {},
   "source": [
    "## Answering Assignment Questions"
   ]
  },
  {
   "cell_type": "markdown",
   "id": "31269d33-a586-4484-80cb-db1887e3b6c8",
   "metadata": {},
   "source": [
    "#### Q1: How many finance lending and blockchain clients does the organization have?"
   ]
  },
  {
   "cell_type": "code",
   "execution_count": 16,
   "id": "6060298d-b841-420b-a9e3-43d5680f19ef",
   "metadata": {},
   "outputs": [
    {
     "name": "stdout",
     "output_type": "stream",
     "text": [
      "Finance Lending Clients: 22\n",
      "Block Chain Clients: 25\n"
     ]
    }
   ],
   "source": [
    "# Count unique client_ids for each industry\n",
    "finance_clients = industry_df[industry_df['industry'] == 'Finance Lending']['client_id'].nunique()\n",
    "blockchain_clients = industry_df[industry_df['industry'] == 'Block Chain']['client_id'].nunique()\n",
    "\n",
    "print(f\"Finance Lending Clients: {finance_clients}\")\n",
    "print(f\"Block Chain Clients: {blockchain_clients}\")"
   ]
  },
  {
   "cell_type": "markdown",
   "id": "f36223ef-0922-4ffb-8701-a4d676ced5bc",
   "metadata": {},
   "source": [
    "#### Q2: Which industry in the organization has the highest renewal rate?"
   ]
  },
  {
   "cell_type": "code",
   "execution_count": 18,
   "id": "28bc6e13-634d-4fcf-87fa-f7a66a2abd19",
   "metadata": {},
   "outputs": [
    {
     "name": "stdout",
     "output_type": "stream",
     "text": [
      "Renewal rates by industry:\n",
      "industry\n",
      "Gaming             0.727273\n",
      "AI                 0.636364\n",
      "Finance Lending    0.545455\n",
      "Hyper Local        0.450000\n",
      "Block Chain        0.440000\n",
      "Name: renewed, dtype: float64\n",
      "\n",
      "Industry with highest renewal rate is Gaming - 72.73%\n"
     ]
    }
   ],
   "source": [
    "# Merge industry and subscription data on client_id\n",
    "merged_df = pd.merge(subscription_df, industry_df, on='client_id', how='inner')\n",
    "\n",
    "# Calculate renewal rate for each industry\n",
    "industry_renewal_rate = merged_df.groupby('industry')['renewed'].mean().sort_values(ascending=False)\n",
    "\n",
    "# Display\n",
    "print(\"Renewal rates by industry:\")\n",
    "print(industry_renewal_rate)\n",
    "\n",
    "# Get the industry with the highest renewal rate\n",
    "top_industry = industry_renewal_rate.idxmax()\n",
    "top_rate = industry_renewal_rate.max()\n",
    "\n",
    "print(f\"\\nIndustry with highest renewal rate is {top_industry} - {top_rate:.2%}\")"
   ]
  },
  {
   "cell_type": "markdown",
   "id": "0e27c8b1-16aa-411a-bb53-367f96cedf7f",
   "metadata": {},
   "source": [
    "#### Q3: What was the average inflation rate when their subscriptions were renewed?"
   ]
  },
  {
   "cell_type": "code",
   "execution_count": 20,
   "id": "ff2a0143-713a-4c0c-83d2-ca5eb7926ed2",
   "metadata": {},
   "outputs": [
    {
     "name": "stdout",
     "output_type": "stream",
     "text": [
      "Average inflation rate at time of renewal: 4.31%\n"
     ]
    }
   ],
   "source": [
    "# Filtering only subscriptions that were renewed\n",
    "renewed_df = subscription_df[subscription_df['renewed'] == True].copy()\n",
    "\n",
    "# Creating empty list to store inflation rates\n",
    "inflation_rates = []\n",
    "\n",
    "# Looping through each renewed subscription\n",
    "for i, row in renewed_df.iterrows():\n",
    "    end_date = row['end_date']\n",
    "    \n",
    "    # Looping through financial periods to find where the end_date fits\n",
    "    matched_rate = None\n",
    "    for j, finance_row in financial_df.iterrows():\n",
    "        if finance_row['start_date'] <= end_date <= finance_row['end_date']:\n",
    "            matched_rate = finance_row['inflation_rate']\n",
    "            break  # Stop after finding the first match\n",
    "    \n",
    "    # Adding the matched rate (None: if not found)\n",
    "    inflation_rates.append(matched_rate)\n",
    "\n",
    "# Adding list as a new column to the renewed_df\n",
    "renewed_df['inflation_rate'] = inflation_rates\n",
    "\n",
    "# Calculating average inflation (ignore missing values)\n",
    "avg_inflation = renewed_df['inflation_rate'].dropna().mean()\n",
    "\n",
    "# Result\n",
    "print(f\"Average inflation rate at time of renewal: {avg_inflation:.2f}%\")"
   ]
  },
  {
   "cell_type": "markdown",
   "id": "30f8f32c-2f9c-4826-826c-284fa64b7dd9",
   "metadata": {},
   "source": [
    "#### Q4: What is the median amount paid each year for all payment methods? "
   ]
  },
  {
   "cell_type": "code",
   "execution_count": 22,
   "id": "14b5a6fe-464b-406e-9603-fe5a0f8fb683",
   "metadata": {},
   "outputs": [
    {
     "name": "stdout",
     "output_type": "stream",
     "text": [
      "Median payment amount each year by method:\n",
      "    year payment_method  amount_paid\n",
      "0   2018  Bank Transfer       281.65\n",
      "1   2018          Check       216.60\n",
      "2   2018    Credit Card       229.15\n",
      "3   2019  Bank Transfer       184.20\n",
      "4   2019          Check       410.20\n",
      "5   2019    Credit Card       401.90\n",
      "6   2020  Bank Transfer       225.10\n",
      "7   2020          Check       413.10\n",
      "8   2020    Credit Card       285.25\n",
      "9   2021  Bank Transfer       255.30\n",
      "10  2021          Check       435.10\n",
      "11  2021    Credit Card       208.70\n",
      "12  2022  Bank Transfer       196.50\n",
      "13  2022          Check       275.50\n",
      "14  2022    Credit Card       326.20\n",
      "\n",
      "\n",
      "\n"
     ]
    },
    {
     "data": {
      "image/png": "[encoded data removed]",
      "text/plain": [
       "<Figure size 1000x600 with 1 Axes>"
      ]
     },
     "metadata": {},
     "output_type": "display_data"
    }
   ],
   "source": [
    "# Extract year from payment date\n",
    "payment_df['year'] = payment_df['payment_date'].dt.year\n",
    "\n",
    "# Group by year and calculate median for each payment method\n",
    "median_by_year_method = payment_df.groupby(['year', 'payment_method'])['amount_paid'].median().reset_index()\n",
    "\n",
    "print(\"Median payment amount each year by method:\")\n",
    "print(median_by_year_method)\n",
    "\n",
    "print(\"\\n\\n\")\n",
    "\n",
    "# Plotting\n",
    "plt.figure(figsize=(10, 6))\n",
    "plot = sns.lineplot(data=median_by_year_method, x='year', y='amount_paid', hue='payment_method', marker='o')\n",
    "\n",
    "# Adding labels near marker\n",
    "for line in median_by_year_method.itertuples():\n",
    "    plt.text(line.year, line.amount_paid + 3,  # slightly above the marker\n",
    "             f'{line.amount_paid:.1f}', \n",
    "             horizontalalignment='center',\n",
    "             fontsize=9, color='black')\n",
    "\n",
    "# Labeling\n",
    "plt.title('Median Amount Paid Each Year by Payment Method', fontsize=14)\n",
    "plt.ylabel('Median Amount Paid')\n",
    "plt.xlabel('Year')\n",
    "plt.grid(True)\n",
    "plt.tight_layout()\n",
    "plt.show()"
   ]
  },
  {
   "cell_type": "code",
   "execution_count": null,
   "id": "fff7303d-f5c5-495f-8afc-5bef35b459f5",
   "metadata": {},
   "outputs": [],
   "source": []
  }
 ],
 "metadata": {
  "kernelspec": {
   "display_name": "Python 3 (ipykernel)",
   "language": "python",
   "name": "python3"
  },
  "language_info": {
   "codemirror_mode": {
    "name": "ipython",
    "version": 3
   },
   "file_extension": ".py",
   "mimetype": "text/x-python",
   "name": "python",
   "nbconvert_exporter": "python",
   "pygments_lexer": "ipython3",
   "version": "3.12.7"
  }
 },
 "nbformat": 4,
 "nbformat_minor": 5
}
